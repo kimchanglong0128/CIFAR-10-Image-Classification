{
 "cells": [
  {
   "cell_type": "markdown",
   "id": "462cee78",
   "metadata": {},
   "source": [
    "### 多层感知机(MLP)"
   ]
  },
  {
   "cell_type": "raw",
   "id": "1b392262",
   "metadata": {},
   "source": [
    "优化器: SGD和Adam优化器在不同动量和学习率设置下表现出了显著差异\n",
    "Adam 通常在低学习率下表现更好\n",
    "\n",
    "动量的作用: SGD优化器在不同动量值下的表现有所不同\n",
    "动量的选择对于收敛速度和模型最终性能至关重要\n",
    "\n",
    "隐藏层影响: 隐藏层数量的增加对模型性能有显著影响\n",
    "过多的隐藏层可能导致性能下降\n",
    "\n",
    "进行正则化(Dropout, 梯度衰减)后准确率范围降低\n",
    "\n",
    "激活函数对模型(MLP)的影响也不大"
   ]
  },
  {
   "cell_type": "markdown",
   "id": "1e5552c0",
   "metadata": {},
   "source": [
    "### 卷积神经网络(CNN)"
   ]
  },
  {
   "cell_type": "raw",
   "id": "31a4b402",
   "metadata": {},
   "source": [
    "CNN结构的优势：与MLP相比，CNN 在图像分类任务上显示出更好的性能，特别是在适当的隐藏层数量和优化器配置下\n",
    "\n",
    "优化器与学习率的关系：不同的优化器（实验中所使用的4中优化器 -> Adam, SGD, RMSprop, AdamW, NAdam）在不同的学习率设置下表现出显著差异\n",
    "较高的学习率在大多数情况下导致性能下降，而较低的学习率（特别是 0.001）与这些优化器结合使用时，通常能获得更好的结果\n",
    "\n",
    "隐藏层数量的影响：在CNN中，隐藏层数量的增加并不总是导致性能提升\n",
    "在某些情况下，增加隐藏层数量会导致性能下降，尤其是当学习率较高时"
   ]
  },
  {
   "cell_type": "markdown",
   "id": "4f9a2608",
   "metadata": {},
   "source": [
    "### 总结"
   ]
  },
  {
   "cell_type": "raw",
   "id": "6e4aa9a5",
   "metadata": {},
   "source": [
    "模型选择：选择合适的模型（MLP或CNN）对于特定任务非常关键\n",
    "CNN 在图像相关任务上通常优于MLP\n",
    "\n",
    "优化器与学习率的协同作用：合适的优化器和学习率选择对于训练的成功至关重要\n",
    "低学习率通常更适合复杂模型和复杂数据集\n",
    "\n",
    "隐藏层数量：隐藏层数量需要根据特定任务和数据集进行调整\n",
    "过多的隐藏层可能会导致过拟合或性能下降\n",
    "\n",
    "深度学习模型训练是一个迭代过程，需要多次实验和调整以找到最佳的模型配置, 使用GPU比CPU速度快得多"
   ]
  }
 ],
 "metadata": {
  "hide_input": false,
  "kernelspec": {
   "display_name": "Python 3 (ipykernel)",
   "language": "python",
   "name": "python3"
  },
  "language_info": {
   "codemirror_mode": {
    "name": "ipython",
    "version": 3
   },
   "file_extension": ".py",
   "mimetype": "text/x-python",
   "name": "python",
   "nbconvert_exporter": "python",
   "pygments_lexer": "ipython3",
   "version": "3.11.4"
  },
  "nbTranslate": {
   "displayLangs": [
    "*"
   ],
   "hotkey": "alt-t",
   "langInMainMenu": true,
   "sourceLang": "en",
   "targetLang": "fr",
   "useGoogleTranslate": true
  },
  "toc": {
   "base_numbering": 1,
   "nav_menu": {},
   "number_sections": true,
   "sideBar": true,
   "skip_h1_title": false,
   "title_cell": "Table of Contents",
   "title_sidebar": "Contents",
   "toc_cell": false,
   "toc_position": {},
   "toc_section_display": true,
   "toc_window_display": false
  },
  "varInspector": {
   "cols": {
    "lenName": 16,
    "lenType": 16,
    "lenVar": 40
   },
   "kernels_config": {
    "python": {
     "delete_cmd_postfix": "",
     "delete_cmd_prefix": "del ",
     "library": "var_list.py",
     "varRefreshCmd": "print(var_dic_list())"
    },
    "r": {
     "delete_cmd_postfix": ") ",
     "delete_cmd_prefix": "rm(",
     "library": "var_list.r",
     "varRefreshCmd": "cat(var_dic_list()) "
    }
   },
   "types_to_exclude": [
    "module",
    "function",
    "builtin_function_or_method",
    "instance",
    "_Feature"
   ],
   "window_display": false
  }
 },
 "nbformat": 4,
 "nbformat_minor": 5
}
